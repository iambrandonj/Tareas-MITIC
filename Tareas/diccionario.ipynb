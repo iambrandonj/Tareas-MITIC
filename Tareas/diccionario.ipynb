{
 "cells": [
  {
   "cell_type": "code",
   "execution_count": 1,
   "metadata": {},
   "outputs": [
    {
     "name": "stdout",
     "output_type": "stream",
     "text": [
      "{'nombre': 'Juan', 'edad': 25, 'ciudad': 'Madrid'}\n"
     ]
    }
   ],
   "source": [
    "diccionario_vacio = {}\n",
    "diccionario = {\"nombre\": \"Juan\", \"edad\": 25, \"ciudad\": \"Madrid\"}\n",
    "print(diccionario)"
   ]
  },
  {
   "cell_type": "code",
   "execution_count": 6,
   "metadata": {},
   "outputs": [
    {
     "name": "stdout",
     "output_type": "stream",
     "text": [
      "dict_keys(['nombre', 'edad', 'ciudad'])\n",
      "dict_values(['Juan', 25, 'Madrid'])\n",
      "dict_items([('nombre', 'Juan'), ('edad', 25), ('ciudad', 'Madrid')])\n",
      "Juan\n"
     ]
    }
   ],
   "source": [
    "print(diccionario.keys())\n",
    "print(diccionario.values())\n",
    "print(diccionario.items())\n",
    "print(diccionario.get('nombre'))"
   ]
  },
  {
   "cell_type": "code",
   "execution_count": 9,
   "metadata": {},
   "outputs": [
    {
     "name": "stdout",
     "output_type": "stream",
     "text": [
      "Juan\n",
      "25\n",
      "Madrid\n"
     ]
    }
   ],
   "source": [
    "for nombre in diccionario.values():\n",
    "    print(nombre)    "
   ]
  }
 ],
 "metadata": {
  "kernelspec": {
   "display_name": "mitic",
   "language": "python",
   "name": "python3"
  },
  "language_info": {
   "codemirror_mode": {
    "name": "ipython",
    "version": 3
   },
   "file_extension": ".py",
   "mimetype": "text/x-python",
   "name": "python",
   "nbconvert_exporter": "python",
   "pygments_lexer": "ipython3",
   "version": "3.12.7"
  }
 },
 "nbformat": 4,
 "nbformat_minor": 2
}
