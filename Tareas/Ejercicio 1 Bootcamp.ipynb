{
 "cells": [
  {
   "cell_type": "markdown",
   "metadata": {},
   "source": [
    "# Manejo de cadenas"
   ]
  },
  {
   "cell_type": "markdown",
   "metadata": {},
   "source": [
    "#### Ejercicio 1: Saludo Personalizado\n",
    "\n",
    "Crea un programa que pida al usuario su nombre y edad, y luego imprima un saludo personalizado.\n",
    "- Usa input para capturar el nombre y la edad.\n",
    "- Usa print para mostrar el saludo."
   ]
  },
  {
   "cell_type": "code",
   "execution_count": null,
   "metadata": {},
   "outputs": [],
   "source": [
    "nombre = input(\"Ingrese su nombre:\")\n",
    "edad = input(\"Ingrese su edad:\")\n",
    "int(edad)\n",
    "print(f\"Un gusto saludarte {nombre}, no me hubiera imaginado que tuvieras {edad} \")"
   ]
  },
  {
   "cell_type": "markdown",
   "metadata": {},
   "source": [
    "#### Ejercicio 2: Manipulación de Cadenas\n",
    "\n",
    "Crea una cadena con tu nombre completo. Usa los métodos de cadenas para:\n",
    "- Convertir el nombre a mayúsculas y minúsculas.\n",
    "- Contar el número de letras en tu nombre.\n",
    "- Reemplazar tu primer nombre por otro nombre."
   ]
  },
  {
   "cell_type": "code",
   "execution_count": null,
   "metadata": {},
   "outputs": [],
   "source": [
    "Nombre_Completo =\"Brandon Jacquet\"\n",
    "print(Nombre_Completo.upper())\n",
    "print(len(Nombre_Completo))\n",
    "print(Nombre_Completo.replace(\"Brandon\", \"Arturo\"))"
   ]
  },
  {
   "cell_type": "markdown",
   "metadata": {},
   "source": [
    "#### Ejercicio 3: Lista de Nombres\n",
    "\n",
    "Pide al usuario que ingrese una lista de nombres separados por comas.\n",
    "- Usa split para convertir esta cadena en una lista de nombres.\n",
    "- Imprime cada nombre en una línea separada."
   ]
  },
  {
   "cell_type": "code",
   "execution_count": null,
   "metadata": {},
   "outputs": [],
   "source": [
    "Nombres = input(\"Ingresa un lista de nombres separados por una coma\")\n",
    "ListaDeNombres = Nombres.split(',')\n",
    "for Nombres in ListaDeNombres:\n",
    "    print(Nombres.strip())"
   ]
  }
 ],
 "metadata": {
  "kernelspec": {
   "display_name": "mitic",
   "language": "python",
   "name": "python3"
  },
  "language_info": {
   "codemirror_mode": {
    "name": "ipython",
    "version": 3
   },
   "file_extension": ".py",
   "mimetype": "text/x-python",
   "name": "python",
   "nbconvert_exporter": "python",
   "pygments_lexer": "ipython3",
   "version": "3.12.7"
  }
 },
 "nbformat": 4,
 "nbformat_minor": 2
}
