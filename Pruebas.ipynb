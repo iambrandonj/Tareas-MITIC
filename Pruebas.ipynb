{
 "cells": [
  {
   "cell_type": "code",
   "execution_count": 5,
   "metadata": {},
   "outputs": [
    {
     "name": "stdout",
     "output_type": "stream",
     "text": [
      "El nombre es-Brandon-y la edad es-21\n"
     ]
    }
   ],
   "source": [
    "nombre = \"Brandon\"\n",
    "edad = 21\n",
    "print(\"El nombre es\",nombre,\"y la edad es\" , edad, sep =\"-\" )"
   ]
  },
  {
   "cell_type": "code",
   "execution_count": 8,
   "metadata": {},
   "outputs": [
    {
     "name": "stdout",
     "output_type": "stream",
     "text": [
      "Hola mundo!\n"
     ]
    }
   ],
   "source": [
    "print(\"Hola\", end=\" \")\n",
    "print(\"mundo!\")"
   ]
  },
  {
   "cell_type": "code",
   "execution_count": 12,
   "metadata": {},
   "outputs": [
    {
     "name": "stdout",
     "output_type": "stream",
     "text": [
      "{'edad': 30,\n",
      " 'educacion': {'primaria': 'Escuela '\n",
      "                           'A',\n",
      "               'secundaria': 'Escuela '\n",
      "                             'B',\n",
      "               'universidad': 'Universidad '\n",
      "                              'C'},\n",
      " 'hobbies': ['leer',\n",
      "             'correr',\n",
      "             'programar'],\n",
      " 'nombre': 'Juan'}\n"
     ]
    }
   ],
   "source": [
    "from pprint import pprint\n",
    "datos = {\n",
    "    \"nombre\": \"Juan\",\n",
    "    \"edad\": 30,\n",
    "    \"hobbies\": [\"leer\", \"correr\", \"programar\"],\n",
    "    \"educacion\": {\n",
    "        \"primaria\": \"Escuela A\",\n",
    "        \"secundaria\": \"Escuela B\",\n",
    "        \"universidad\": \"Universidad C\"\n",
    "    }\n",
    "}\n",
    "\n",
    "pprint(datos, width=30)"
   ]
  },
  {
   "cell_type": "code",
   "execution_count": 34,
   "metadata": {},
   "outputs": [
    {
     "name": "stdout",
     "output_type": "stream",
     "text": [
      "HOLA MUNDO\n",
      "hola mundo\n",
      "10\n",
      "Hola Mundo\n",
      "Hola Mundo   \n",
      "   Hola Mundo\n",
      "['Hola', 'Mundo', 'Python']\n",
      "Hola Mundo Python\n",
      "Hola Python\n",
      "5\n",
      "5\n",
      "True\n",
      "True\n",
      "2\n"
     ]
    }
   ],
   "source": [
    "#1. Upper y lowe\n",
    "texto = \"Hola Mundo\"\n",
    "print(texto.upper())  # \"HOLA MUNDO\"\n",
    "print(texto.lower())  # \"hola mundo\"\n",
    "#2. len\n",
    "print(len(texto))  # 10\n",
    "texto = \"   Hola Mundo   \"\n",
    "#3. strip, lstrip y rstrip\n",
    "print(texto.strip())   # \"Hola Mundo\"\n",
    "print(texto.lstrip())  # \"Hola Mundo   \"\n",
    "print(texto.rstrip())  # \"   Hola Mundo\"\n",
    "#4. split\n",
    "texto = \"Hola, Mundo, Python\"\n",
    "lista = texto.split(\", \")  # ['Hola', 'Mundo', 'Python']\n",
    "print(lista)\n",
    "nuevo_texto = \" \".join(lista)\n",
    "print(nuevo_texto)  # \"Hola Mundo Python\"\n",
    "#5. replace\n",
    "texto = \"Hola Mundo\"\n",
    "nuevo_texto = texto.replace(\"Mundo\", \"Python\")\n",
    "print(nuevo_texto)  # \"Hola Python\"\n",
    "#6. find, index\n",
    "texto = \"Hola Mundo\"\n",
    "print(texto.find(\"Mundo\"))  # 5\n",
    "print(texto.index(\"Mundo\"))  # 5\n",
    "#7. startswith, endswith\n",
    "texto = \"Hola Mundo\"\n",
    "print(texto.startswith(\"Hola\"))  # True\n",
    "print(texto.endswith(\"Mundo\"))  # True\n",
    "#8. count\n",
    "texto = \"Hola Mundo Hola\"\n",
    "print(texto.count(\"Hola\"))  # 2"
   ]
  }
 ],
 "metadata": {
  "kernelspec": {
   "display_name": "mitic",
   "language": "python",
   "name": "python3"
  },
  "language_info": {
   "codemirror_mode": {
    "name": "ipython",
    "version": 3
   },
   "file_extension": ".py",
   "mimetype": "text/x-python",
   "name": "python",
   "nbconvert_exporter": "python",
   "pygments_lexer": "ipython3",
   "version": "3.12.7"
  }
 },
 "nbformat": 4,
 "nbformat_minor": 2
}
